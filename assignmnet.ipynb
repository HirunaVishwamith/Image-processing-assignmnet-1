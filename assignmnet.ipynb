{
 "cells": [
  {
   "cell_type": "code",
   "execution_count": 24,
   "metadata": {},
   "outputs": [
    {
     "name": "stdout",
     "output_type": "stream",
     "text": [
      "51\n",
      "100\n",
      "105\n",
      "256\n"
     ]
    },
    {
     "data": {
      "image/png": "[encoded data removed]",
      "text/plain": [
       "<Figure size 432x288 with 1 Axes>"
      ]
     },
     "metadata": {
      "needs_background": "light"
     },
     "output_type": "display_data"
    },
    {
     "data": {
      "text/plain": [
       "True"
      ]
     },
     "execution_count": 24,
     "metadata": {},
     "output_type": "execute_result"
    }
   ],
   "source": [
    "import cv2 as cv\n",
    "import numpy as np\n",
    "import matplotlib.pyplot as plt\n",
    "\n",
    "\n",
    "''' Quesstion one '''\n",
    "\n",
    "t1 = np.linspace(0,50,51).astype('uint8')\n",
    "print(len(t1))\n",
    "\n",
    "t2 = np.linspace(100, 255, 100).astype('uint8')\n",
    "print(len(t2))\n",
    "\n",
    "t3 = np.linspace(150, 255, 255 - 150).astype('uint8')\n",
    "print(len(t3))\n",
    "\n",
    "transform = np.concatenate((t1, t2), axis=0).astype('uint8')\n",
    "transform = np.concatenate((transform, t3), axis=0).astype('uint8')\n",
    "\n",
    "print(len(transform))\n",
    "\n",
    "fig, ax = plt.subplots()\n",
    "ax.plot(transform)\n",
    "ax.set_xlabel('Input intensity')\n",
    "ax.set_ylabel('Output intensity')\n",
    "ax.set_xlim(0, 255)\n",
    "ax.set_ylim(0, 255)\n",
    "ax.set_aspect('equal')\n",
    "plt.savefig('transform.png')\n",
    "plt.show()\n",
    "\n",
    "img_orig = cv.imread('./emma.jpg', cv.IMREAD_GRAYSCALE)\n",
    "cv.namedWindow(\"Image\", cv.WINDOW_AUTOSIZE)\n",
    "cv.imshow(\"Image\", img_orig)\n",
    "cv.waitKey(0)\n",
    "\n",
    "image_transformed = cv.LUT(img_orig, transform)\n",
    "cv.imshow(\"Image\", image_transformed)\n",
    "cv.waitKey(0)\n",
    "cv.destroyAllWindows()\n",
    "cv.imwrite('transformed_emma.jpg', image_transformed)\n"
   ]
  },
  {
   "cell_type": "code",
   "execution_count": 17,
   "metadata": {},
   "outputs": [
    {
     "name": "stdout",
     "output_type": "stream",
     "text": [
      "151\n",
      "50\n",
      "55\n",
      "256\n"
     ]
    },
    {
     "data": {
      "image/png": "[encoded data removed]",
      "text/plain": [
       "<Figure size 432x288 with 1 Axes>"
      ]
     },
     "metadata": {
      "needs_background": "light"
     },
     "output_type": "display_data"
    },
    {
     "data": {
      "text/plain": [
       "True"
      ]
     },
     "execution_count": 17,
     "metadata": {},
     "output_type": "execute_result"
    }
   ],
   "source": [
    "''' Quesstion two (a)'''\n",
    "\n",
    "# import cv2 as cv\n",
    "# import numpy as np\n",
    "# import matplotlib.pyplot as plt\n",
    "\n",
    "t1 = np.linspace(0,50,150-0+1).astype('uint8')\n",
    "print(len(t1))\n",
    "\n",
    "t2 = np.linspace(150, 200, 200-150).astype('uint8')\n",
    "print(len(t2))\n",
    "\n",
    "t3 = np.linspace(51, 69, 255 - 200).astype('uint8')\n",
    "print(len(t3))\n",
    "\n",
    "transform = np.concatenate((t1, t2), axis=0).astype('uint8')\n",
    "transform = np.concatenate((transform, t3), axis=0).astype('uint8')\n",
    "\n",
    "print(len(transform))\n",
    "\n",
    "fig, ax = plt.subplots()\n",
    "ax.plot(transform)\n",
    "ax.set_xlabel('Input intensity')\n",
    "ax.set_ylabel('Output intensity')\n",
    "ax.set_xlim(0, 255)\n",
    "ax.set_ylim(0, 255)\n",
    "ax.set_aspect('equal')\n",
    "plt.savefig('gray_incr.png')\n",
    "plt.show()\n",
    "\n",
    "img_orig = cv.imread('./BrainProtonDensitySlice9.png', cv.IMREAD_GRAYSCALE)\n",
    "cv.namedWindow(\"Image\", cv.WINDOW_AUTOSIZE)\n",
    "cv.imshow(\"Image\", img_orig)\n",
    "# cv.waitKey(0)\n",
    "\n",
    "image_transformed = cv.LUT(img_orig, transform)\n",
    "cv.imshow(\"Garish_Image\", image_transformed)\n",
    "cv.waitKey(0)\n",
    "cv.destroyAllWindows()\n",
    "cv.imwrite('Grayish_Image.jpg', image_transformed)\n"
   ]
  },
  {
   "cell_type": "code",
   "execution_count": 18,
   "metadata": {},
   "outputs": [
    {
     "name": "stdout",
     "output_type": "stream",
     "text": [
      "201\n",
      "55\n",
      "256\n"
     ]
    },
    {
     "data": {
      "image/png": "[encoded data removed]",
      "text/plain": [
       "<Figure size 432x288 with 1 Axes>"
      ]
     },
     "metadata": {
      "needs_background": "light"
     },
     "output_type": "display_data"
    },
    {
     "data": {
      "text/plain": [
       "True"
      ]
     },
     "execution_count": 18,
     "metadata": {},
     "output_type": "execute_result"
    }
   ],
   "source": [
    "''' Quesstion two (b)'''\n",
    "\n",
    "# import cv2 as cv\n",
    "# import numpy as np\n",
    "# import matplotlib.pyplot as plt\n",
    "\n",
    "t1 = np.linspace(0,50,200-0+1).astype('uint8')\n",
    "print(len(t1))\n",
    "\n",
    "t2 = np.linspace(150, 200, 255-200).astype('uint8')\n",
    "print(len(t2))\n",
    "\n",
    "# t3 = np.linspace(51, 69, 255 - 200).astype('uint8')\n",
    "# print(len(t3))\n",
    "\n",
    "transform = np.concatenate((t1, t2), axis=0).astype('uint8')\n",
    "# transform = np.concatenate((transform, t3), axis=0).astype('uint8')\n",
    "\n",
    "print(len(transform))\n",
    "\n",
    "fig, ax = plt.subplots()\n",
    "ax.plot(transform)\n",
    "ax.set_xlabel('Input intensity')\n",
    "ax.set_ylabel('Output intensity')\n",
    "ax.set_xlim(0, 255)\n",
    "ax.set_ylim(0, 255)\n",
    "ax.set_aspect('equal')\n",
    "plt.savefig('white_incr.png')\n",
    "plt.show()\n",
    "\n",
    "img_orig = cv.imread('./BrainProtonDensitySlice9.png', cv.IMREAD_GRAYSCALE)\n",
    "cv.namedWindow(\"Image\", cv.WINDOW_AUTOSIZE)\n",
    "cv.imshow(\"Image\", img_orig)\n",
    "# cv.waitKey(0)\n",
    "\n",
    "image_transformed = cv.LUT(img_orig, transform)\n",
    "cv.imshow(\"Whitish_Image\", image_transformed)\n",
    "cv.waitKey(0)\n",
    "cv.destroyAllWindows()\n",
    "cv.imwrite('Whitish_Image.jpg', image_transformed)\n"
   ]
  },
  {
   "cell_type": "code",
   "execution_count": null,
   "metadata": {},
   "outputs": [],
   "source": []
  }
 ],
 "metadata": {
  "kernelspec": {
   "display_name": "CV",
   "language": "python",
   "name": "python3"
  },
  "language_info": {
   "codemirror_mode": {
    "name": "ipython",
    "version": 3
   },
   "file_extension": ".py",
   "mimetype": "text/x-python",
   "name": "python",
   "nbconvert_exporter": "python",
   "pygments_lexer": "ipython3",
   "version": "3.9.7"
  },
  "orig_nbformat": 4
 },
 "nbformat": 4,
 "nbformat_minor": 2
}
